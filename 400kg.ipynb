{
 "cells": [
  {
   "cell_type": "code",
   "execution_count": 2,
   "metadata": {},
   "outputs": [],
   "source": [
    "%matplotlib inline\n",
    "\n",
    "import matplotlib.pyplot as plt\n",
    "import numpy \n",
    "import scipy.optimize"
   ]
  },
  {
   "cell_type": "code",
   "execution_count": 3,
   "metadata": {},
   "outputs": [
    {
     "data": {
      "image/png": "[encoded data removed]",
      "text/plain": [
       "<Figure size 576x432 with 1 Axes>"
      ]
     },
     "metadata": {},
     "output_type": "display_data"
    }
   ],
   "source": [
    "x_values = numpy.array([130\n",
    ",127.5\n",
    ",125\n",
    ",122.5\n",
    ",120\n",
    ",117.5\n",
    ",115\n",
    ",112.5\n",
    ",110\n",
    ",107.5\n",
    ",105\n",
    ",102.5\n",
    ",100\n",
    ",97.5\n",
    ",95\n",
    ",92.5\n",
    ",90])\n",
    "y_values = numpy.array([94.50289352,92.67997685,91.27314815,88.81886574,88.015625,87.56828704,87.45081019\n",
    ",86.92592593\n",
    ",87.80613426\n",
    ",90.59722222\n",
    ",91.44560185\n",
    ",96.25752315\n",
    ",99.87673611\n",
    ",104.8009259\n",
    ",110.7280093\n",
    ",114.4623843\n",
    ",120.2980324])\n",
    "y_errors = numpy.array([0.047835742,\n",
    "0.062947366\n",
    ",0.038075713\n",
    ",0.075307835\n",
    ",0.044623716\n",
    ",0.05382822\n",
    ",0.067388354\n",
    ",0.067890515\n",
    ",0.066328226\n",
    ",0.070821895\n",
    ",0.084988488\n",
    ",0.074035374\n",
    ",0.066342346\n",
    ",0.081929953\n",
    ",0.077277145\n",
    ",0.073812962\n",
    ",0.061985014])\n",
    "\n",
    "assert len(y_values) == len(x_values)\n",
    "assert len(y_errors) == len(y_values)\n",
    "\n",
    "\n",
    "# def sin_model(x, param_vals):\n",
    "#    return param_vals[0]+param_vals[1]*numpy.sin(param_vals[2]*x+param_vals[3])\n",
    "\n",
    "def quadratic_model(x, param_vals):\n",
    "    return param_vals[0] + param_vals[1]*x + param_vals[2]*x**2\n",
    "\n",
    "params = [6,-4000,600000]\n",
    "\n",
    "plt.figure(figsize=(8,6))\n",
    "plt.errorbar(x_values, \n",
    "             y_values, \n",
    "             yerr=y_errors, # use y_errors array for y error bars\n",
    "             marker='o', # circular markers at each datapoint\n",
    "             linestyle='None') # no connecting lines\n",
    "\n",
    "#plt.plot(x_values, quadratic_model(x_values, params))\n",
    "\n",
    "plt.xlabel('angle (units)') # axis labels and units\n",
    "plt.ylabel('intensity (units)')\n",
    "plt.show() "
   ]
  },
  {
   "cell_type": "code",
   "execution_count": 4,
   "metadata": {},
   "outputs": [],
   "source": [
    "def linear_model(x, param_vals):\n",
    "    return param_vals[0] + param_vals[1]*x\n",
    "\n",
    "# def quadratic_model(x, param_vals):\n",
    "#    return param_vals[0] + param_vals[1]*x**2\n",
    "\n",
    "def chi_squared(model_params, model, x_data, y_data, y_error):\n",
    "    return numpy.sum(((y_data - model(x_data, model_params))/y_error)**2)"
   ]
  },
  {
   "cell_type": "code",
   "execution_count": 5,
   "metadata": {},
   "outputs": [
    {
     "name": "stdout",
     "output_type": "stream",
     "text": [
      "DoF = 14\n",
      "False\n",
      "Desired error not necessarily achieved due to precision loss.\n"
     ]
    }
   ],
   "source": [
    "model_function = quadratic_model \n",
    "\n",
    "initial_values = numpy.array([6,-4000,600000])\n",
    "\n",
    "\n",
    "deg_freedom = x_values.size - initial_values.size # Make sure you understand why!\n",
    "print('DoF = {}'.format(deg_freedom))\n",
    "\n",
    "\n",
    "fit_linear = scipy.optimize.minimize(chi_squared, initial_values, args=(model_function, x_values, y_values, y_errors))\n",
    "\n",
    "print(fit_linear.success) # Did the minimisation complete successfully?\n",
    "print(fit_linear.message)"
   ]
  },
  {
   "cell_type": "code",
   "execution_count": 6,
   "metadata": {},
   "outputs": [
    {
     "name": "stdout",
     "output_type": "stream",
     "text": [
      "best linear fit a = 732.8943115973375 a_units?\n",
      "best linear fit b = -11.085098741999522 b_units?\n",
      "best linear fit b = 0.04756276151825226 b_units?\n",
      "minimised chi-squared = 2821.100176100077\n"
     ]
    }
   ],
   "source": [
    "a_solution = fit_linear.x[0]\n",
    "b_solution = fit_linear.x[1]\n",
    "c_solution = fit_linear.x[2]\n",
    "\n",
    "print('best linear fit a = {} a_units?'.format(a_solution))\n",
    "print('best linear fit b = {} b_units?'.format(b_solution))\n",
    "print('best linear fit b = {} b_units?'.format(c_solution))\n",
    "\n",
    "# minimized value for chisq function is fit_linear.fun\n",
    "print('minimised chi-squared = {}'.format(fit_linear.fun))"
   ]
  },
  {
   "cell_type": "code",
   "execution_count": 7,
   "metadata": {},
   "outputs": [
    {
     "name": "stdout",
     "output_type": "stream",
     "text": [
      "chi^2_min = 2821.100176100077\n",
      "reduced chi^2 = 201.5071554357198\n"
     ]
    }
   ],
   "source": [
    "chisq_min = chi_squared([a_solution, b_solution, c_solution], model_function, x_values, y_values, y_errors)\n",
    "print('chi^2_min = {}'.format(chisq_min))\n",
    "\n",
    "chisq_reduced = chisq_min/deg_freedom\n",
    "print('reduced chi^2 = {}'.format(chisq_reduced))"
   ]
  },
  {
   "cell_type": "code",
   "execution_count": 8,
   "metadata": {},
   "outputs": [
    {
     "name": "stdout",
     "output_type": "stream",
     "text": [
      "P(chi^2_min, DoF) = 0.0\n"
     ]
    }
   ],
   "source": [
    "import scipy.stats\n",
    "\n",
    "P_value = scipy.stats.chi2.sf(chisq_min, deg_freedom)\n",
    "print('P(chi^2_min, DoF) = {}'.format(P_value))"
   ]
  },
  {
   "cell_type": "code",
   "execution_count": 9,
   "metadata": {},
   "outputs": [
    {
     "data": {
      "image/png": "[encoded data removed]",
      "text/plain": [
       "<Figure size 576x432 with 1 Axes>"
      ]
     },
     "metadata": {},
     "output_type": "display_data"
    }
   ],
   "source": [
    "plt.figure(figsize=(8,6))\n",
    "plt.errorbar(x_values, \n",
    "             y_values, \n",
    "             yerr=y_errors, \n",
    "             marker='o', \n",
    "             linestyle='None')\n",
    "\n",
    "plt.xlabel('x data (units)') # Axis labels\n",
    "plt.ylabel('y data (units)')\n",
    "\n",
    "# Generate best fit line using model function and best fit parameters, and add to plot\n",
    "fit_line = model_function(x_values, [a_solution, b_solution, c_solution])\n",
    "plt.plot(x_values, fit_line, 'r')\n",
    "plt.show()"
   ]
  },
  {
   "cell_type": "code",
   "execution_count": 10,
   "metadata": {},
   "outputs": [
    {
     "data": {
      "image/png": "[encoded data removed]",
      "text/plain": [
       "<Figure size 576x432 with 1 Axes>"
      ]
     },
     "metadata": {},
     "output_type": "display_data"
    }
   ],
   "source": [
    "smooth_xvals = numpy.linspace(min(x_values), max(x_values), 1000)   \n",
    "# make a smoother line - use 1000 equally spaced points over the range of the measured points.\n",
    "\n",
    "plt.figure(figsize=(8,6))\n",
    "plt.errorbar(x_values, \n",
    "             y_values, \n",
    "             yerr=y_errors, \n",
    "             marker='o', \n",
    "             linestyle='None')\n",
    "\n",
    "plt.xlabel('x data (units)')\n",
    "plt.ylabel('y data (units)')\n",
    "\n",
    "simulated_line = model_function(smooth_xvals, [a_solution, b_solution, c_solution]) \n",
    "plt.plot(smooth_xvals, simulated_line, 'r')\n",
    "plt.show()"
   ]
  },
  {
   "cell_type": "code",
   "execution_count": 11,
   "metadata": {},
   "outputs": [
    {
     "ename": "IndexError",
     "evalue": "list index out of range",
     "output_type": "error",
     "traceback": [
      "\u001b[0;31m---------------------------------------------------------------------------\u001b[0m",
      "\u001b[0;31mIndexError\u001b[0m                                Traceback (most recent call last)",
      "\u001b[0;32m<ipython-input-11-d524a662094c>\u001b[0m in \u001b[0;36m<module>\u001b[0;34m()\u001b[0m\n\u001b[1;32m     11\u001b[0m \u001b[0;32mfor\u001b[0m \u001b[0mi\u001b[0m\u001b[0;34m,\u001b[0m \u001b[0mb_val\u001b[0m \u001b[0;32min\u001b[0m \u001b[0menumerate\u001b[0m\u001b[0;34m(\u001b[0m\u001b[0mb_axis\u001b[0m\u001b[0;34m)\u001b[0m\u001b[0;34m:\u001b[0m \u001b[0;31m# Nested loops to demonstrate what is happening...\u001b[0m\u001b[0;34m\u001b[0m\u001b[0m\n\u001b[1;32m     12\u001b[0m     \u001b[0;32mfor\u001b[0m \u001b[0mj\u001b[0m\u001b[0;34m,\u001b[0m \u001b[0ma_val\u001b[0m \u001b[0;32min\u001b[0m \u001b[0menumerate\u001b[0m\u001b[0;34m(\u001b[0m\u001b[0ma_axis\u001b[0m\u001b[0;34m)\u001b[0m\u001b[0;34m:\u001b[0m \u001b[0;31m# (numpy can actually do this far more efficiently as a vectorised calculation)\u001b[0m\u001b[0;34m\u001b[0m\u001b[0m\n\u001b[0;32m---> 13\u001b[0;31m         \u001b[0mplot_data\u001b[0m\u001b[0;34m[\u001b[0m\u001b[0mi\u001b[0m\u001b[0;34m]\u001b[0m\u001b[0;34m[\u001b[0m\u001b[0mj\u001b[0m\u001b[0;34m]\u001b[0m \u001b[0;34m=\u001b[0m \u001b[0mchi_squared\u001b[0m\u001b[0;34m(\u001b[0m\u001b[0;34m[\u001b[0m\u001b[0ma_val\u001b[0m\u001b[0;34m,\u001b[0m \u001b[0mb_val\u001b[0m\u001b[0;34m]\u001b[0m\u001b[0;34m,\u001b[0m \u001b[0mmodel_function\u001b[0m\u001b[0;34m,\u001b[0m \u001b[0mx_values\u001b[0m\u001b[0;34m,\u001b[0m \u001b[0my_values\u001b[0m\u001b[0;34m,\u001b[0m \u001b[0my_errors\u001b[0m\u001b[0;34m)\u001b[0m\u001b[0;34m\u001b[0m\u001b[0m\n\u001b[0m",
      "\u001b[0;32m<ipython-input-4-dd2fbc3353a9>\u001b[0m in \u001b[0;36mchi_squared\u001b[0;34m(model_params, model, x_data, y_data, y_error)\u001b[0m\n\u001b[1;32m      6\u001b[0m \u001b[0;34m\u001b[0m\u001b[0m\n\u001b[1;32m      7\u001b[0m \u001b[0;32mdef\u001b[0m \u001b[0mchi_squared\u001b[0m\u001b[0;34m(\u001b[0m\u001b[0mmodel_params\u001b[0m\u001b[0;34m,\u001b[0m \u001b[0mmodel\u001b[0m\u001b[0;34m,\u001b[0m \u001b[0mx_data\u001b[0m\u001b[0;34m,\u001b[0m \u001b[0my_data\u001b[0m\u001b[0;34m,\u001b[0m \u001b[0my_error\u001b[0m\u001b[0;34m)\u001b[0m\u001b[0;34m:\u001b[0m\u001b[0;34m\u001b[0m\u001b[0m\n\u001b[0;32m----> 8\u001b[0;31m     \u001b[0;32mreturn\u001b[0m \u001b[0mnumpy\u001b[0m\u001b[0;34m.\u001b[0m\u001b[0msum\u001b[0m\u001b[0;34m(\u001b[0m\u001b[0;34m(\u001b[0m\u001b[0;34m(\u001b[0m\u001b[0my_data\u001b[0m \u001b[0;34m-\u001b[0m \u001b[0mmodel\u001b[0m\u001b[0;34m(\u001b[0m\u001b[0mx_data\u001b[0m\u001b[0;34m,\u001b[0m \u001b[0mmodel_params\u001b[0m\u001b[0;34m)\u001b[0m\u001b[0;34m)\u001b[0m\u001b[0;34m/\u001b[0m\u001b[0my_error\u001b[0m\u001b[0;34m)\u001b[0m\u001b[0;34m**\u001b[0m\u001b[0;36m2\u001b[0m\u001b[0;34m)\u001b[0m\u001b[0;34m\u001b[0m\u001b[0m\n\u001b[0m",
      "\u001b[0;32m<ipython-input-3-9ed9dc837a47>\u001b[0m in \u001b[0;36mquadratic_model\u001b[0;34m(x, param_vals)\u001b[0m\n\u001b[1;32m     53\u001b[0m \u001b[0;34m\u001b[0m\u001b[0m\n\u001b[1;32m     54\u001b[0m \u001b[0;32mdef\u001b[0m \u001b[0mquadratic_model\u001b[0m\u001b[0;34m(\u001b[0m\u001b[0mx\u001b[0m\u001b[0;34m,\u001b[0m \u001b[0mparam_vals\u001b[0m\u001b[0;34m)\u001b[0m\u001b[0;34m:\u001b[0m\u001b[0;34m\u001b[0m\u001b[0m\n\u001b[0;32m---> 55\u001b[0;31m     \u001b[0;32mreturn\u001b[0m \u001b[0mparam_vals\u001b[0m\u001b[0;34m[\u001b[0m\u001b[0;36m0\u001b[0m\u001b[0;34m]\u001b[0m \u001b[0;34m+\u001b[0m \u001b[0mparam_vals\u001b[0m\u001b[0;34m[\u001b[0m\u001b[0;36m1\u001b[0m\u001b[0;34m]\u001b[0m\u001b[0;34m*\u001b[0m\u001b[0mx\u001b[0m \u001b[0;34m+\u001b[0m \u001b[0mparam_vals\u001b[0m\u001b[0;34m[\u001b[0m\u001b[0;36m2\u001b[0m\u001b[0;34m]\u001b[0m\u001b[0;34m*\u001b[0m\u001b[0mx\u001b[0m\u001b[0;34m**\u001b[0m\u001b[0;36m2\u001b[0m\u001b[0;34m\u001b[0m\u001b[0m\n\u001b[0m\u001b[1;32m     56\u001b[0m \u001b[0;34m\u001b[0m\u001b[0m\n\u001b[1;32m     57\u001b[0m \u001b[0mparams\u001b[0m \u001b[0;34m=\u001b[0m \u001b[0;34m[\u001b[0m\u001b[0;36m6\u001b[0m\u001b[0;34m,\u001b[0m\u001b[0;34m-\u001b[0m\u001b[0;36m4000\u001b[0m\u001b[0;34m,\u001b[0m\u001b[0;36m600000\u001b[0m\u001b[0;34m]\u001b[0m\u001b[0;34m\u001b[0m\u001b[0m\n",
      "\u001b[0;31mIndexError\u001b[0m: list index out of range"
     ]
    }
   ],
   "source": [
    "a_range = 1\n",
    "b_range = 0.05\n",
    "\n",
    "n_points = 100          \n",
    "\n",
    "# Generate grid and data\n",
    "a_axis = numpy.linspace(a_solution-a_range, a_solution+a_range, num=n_points)\n",
    "b_axis = numpy.linspace(b_solution-b_range, b_solution+b_range, num=n_points)\n",
    "plot_data = numpy.zeros((n_points, n_points))\n",
    "\n",
    "for i, b_val in enumerate(b_axis): # Nested loops to demonstrate what is happening...\n",
    "    for j, a_val in enumerate(a_axis): # (numpy can actually do this far more efficiently as a vectorised calculation)\n",
    "        plot_data[i][j] = chi_squared([a_val, b_val], model_function, x_values, y_values, y_errors)"
   ]
  },
  {
   "cell_type": "code",
   "execution_count": 12,
   "metadata": {},
   "outputs": [
    {
     "data": {
      "image/png": "[encoded data removed]",
      "text/plain": [
       "<Figure size 432x432 with 2 Axes>"
      ]
     },
     "metadata": {},
     "output_type": "display_data"
    }
   ],
   "source": [
    "plt.figure(figsize=(6,6))\n",
    "im = plt.imshow(plot_data, extent=(a_solution-a_range, a_solution+a_range, b_solution-b_range, b_solution+b_range), \n",
    "                origin='lower', aspect='auto')\n",
    "\n",
    "plt.xlim(a_solution-a_range, a_solution+a_range) # axis ranges\n",
    "plt.ylim(b_solution-b_range, b_solution+b_range)\n",
    "\n",
    "plt.ylabel('b (units?)') # Axis labels\n",
    "plt.xlabel('a (units?)')\n",
    "\n",
    "cbar=plt.colorbar(im, orientation='vertical') # # Colorbar and label\n",
    "cbar.set_label('$\\chi^2$', fontsize=12)\n",
    "\n",
    "plt.plot(a_solution, b_solution, 'wo') # Add in best fit point and dashed lines\n",
    "plt.plot((a_solution, a_solution), (b_solution-b_range, b_solution), linestyle='--', color='w')\n",
    "plt.plot((a_solution-a_range, a_solution), (b_solution, b_solution), linestyle='--', color='w')\n",
    "plt.show()"
   ]
  },
  {
   "cell_type": "code",
   "execution_count": 13,
   "metadata": {},
   "outputs": [
    {
     "name": "stderr",
     "output_type": "stream",
     "text": [
      "/opt/conda/lib/python3.6/site-packages/matplotlib/contour.py:1230: UserWarning: No contour levels were found within the data range.\n",
      "  warnings.warn(\"No contour levels were found\"\n"
     ]
    },
    {
     "ename": "ValueError",
     "evalue": "Specified levels [1, 4, 9] don't match available levels [-2821.100176100077]",
     "output_type": "error",
     "traceback": [
      "\u001b[0;31m---------------------------------------------------------------------------\u001b[0m",
      "\u001b[0;31mValueError\u001b[0m                                Traceback (most recent call last)",
      "\u001b[0;32m<ipython-input-13-1ce1cef7f37d>\u001b[0m in \u001b[0;36m<module>\u001b[0;34m()\u001b[0m\n\u001b[1;32m      5\u001b[0m \u001b[0mplt\u001b[0m\u001b[0;34m.\u001b[0m\u001b[0mfigure\u001b[0m\u001b[0;34m(\u001b[0m\u001b[0mfigsize\u001b[0m\u001b[0;34m=\u001b[0m\u001b[0;34m(\u001b[0m\u001b[0;36m7\u001b[0m\u001b[0;34m,\u001b[0m\u001b[0;36m8\u001b[0m\u001b[0;34m)\u001b[0m\u001b[0;34m)\u001b[0m\u001b[0;34m\u001b[0m\u001b[0m\n\u001b[1;32m      6\u001b[0m \u001b[0mcontour_plot\u001b[0m \u001b[0;34m=\u001b[0m \u001b[0mplt\u001b[0m\u001b[0;34m.\u001b[0m\u001b[0mcontour\u001b[0m\u001b[0;34m(\u001b[0m\u001b[0mX\u001b[0m\u001b[0;34m,\u001b[0m \u001b[0mY\u001b[0m\u001b[0;34m,\u001b[0m \u001b[0mcontour_data\u001b[0m\u001b[0;34m,\u001b[0m \u001b[0mlevels\u001b[0m\u001b[0;34m=\u001b[0m\u001b[0mlevels\u001b[0m\u001b[0;34m,\u001b[0m \u001b[0mcolors\u001b[0m\u001b[0;34m=\u001b[0m\u001b[0;34m'b'\u001b[0m\u001b[0;34m,\u001b[0m \u001b[0morigin\u001b[0m \u001b[0;34m=\u001b[0m \u001b[0;34m'lower'\u001b[0m\u001b[0;34m)\u001b[0m\u001b[0;34m\u001b[0m\u001b[0m\n\u001b[0;32m----> 7\u001b[0;31m \u001b[0mplt\u001b[0m\u001b[0;34m.\u001b[0m\u001b[0mclabel\u001b[0m\u001b[0;34m(\u001b[0m\u001b[0mcontour_plot\u001b[0m\u001b[0;34m,\u001b[0m \u001b[0mlevels\u001b[0m\u001b[0;34m,\u001b[0m \u001b[0mfontsize\u001b[0m\u001b[0;34m=\u001b[0m\u001b[0;36m12\u001b[0m\u001b[0;34m,\u001b[0m \u001b[0minline\u001b[0m\u001b[0;34m=\u001b[0m\u001b[0;36m1\u001b[0m\u001b[0;34m,\u001b[0m \u001b[0mfmt\u001b[0m\u001b[0;34m=\u001b[0m\u001b[0;34mr'$\\chi^2 = \\chi^2_{min}+%1.0f$'\u001b[0m\u001b[0;34m)\u001b[0m\u001b[0;34m\u001b[0m\u001b[0m\n\u001b[0m\u001b[1;32m      8\u001b[0m \u001b[0;34m\u001b[0m\u001b[0m\n\u001b[1;32m      9\u001b[0m \u001b[0mplt\u001b[0m\u001b[0;34m.\u001b[0m\u001b[0mxlabel\u001b[0m\u001b[0;34m(\u001b[0m\u001b[0;34m'a (units?)'\u001b[0m\u001b[0;34m)\u001b[0m \u001b[0;31m# Axis labels\u001b[0m\u001b[0;34m\u001b[0m\u001b[0m\n",
      "\u001b[0;32m/opt/conda/lib/python3.6/site-packages/matplotlib/pyplot.py\u001b[0m in \u001b[0;36mclabel\u001b[0;34m(CS, *args, **kwargs)\u001b[0m\n\u001b[1;32m   2896\u001b[0m                       mplDeprecation)\n\u001b[1;32m   2897\u001b[0m     \u001b[0;32mtry\u001b[0m\u001b[0;34m:\u001b[0m\u001b[0;34m\u001b[0m\u001b[0m\n\u001b[0;32m-> 2898\u001b[0;31m         \u001b[0mret\u001b[0m \u001b[0;34m=\u001b[0m \u001b[0max\u001b[0m\u001b[0;34m.\u001b[0m\u001b[0mclabel\u001b[0m\u001b[0;34m(\u001b[0m\u001b[0mCS\u001b[0m\u001b[0;34m,\u001b[0m \u001b[0;34m*\u001b[0m\u001b[0margs\u001b[0m\u001b[0;34m,\u001b[0m \u001b[0;34m**\u001b[0m\u001b[0mkwargs\u001b[0m\u001b[0;34m)\u001b[0m\u001b[0;34m\u001b[0m\u001b[0m\n\u001b[0m\u001b[1;32m   2899\u001b[0m     \u001b[0;32mfinally\u001b[0m\u001b[0;34m:\u001b[0m\u001b[0;34m\u001b[0m\u001b[0m\n\u001b[1;32m   2900\u001b[0m         \u001b[0max\u001b[0m\u001b[0;34m.\u001b[0m\u001b[0m_hold\u001b[0m \u001b[0;34m=\u001b[0m \u001b[0mwashold\u001b[0m\u001b[0;34m\u001b[0m\u001b[0m\n",
      "\u001b[0;32m/opt/conda/lib/python3.6/site-packages/matplotlib/axes/_axes.py\u001b[0m in \u001b[0;36mclabel\u001b[0;34m(self, CS, *args, **kwargs)\u001b[0m\n\u001b[1;32m   6294\u001b[0m \u001b[0;34m\u001b[0m\u001b[0m\n\u001b[1;32m   6295\u001b[0m     \u001b[0;32mdef\u001b[0m \u001b[0mclabel\u001b[0m\u001b[0;34m(\u001b[0m\u001b[0mself\u001b[0m\u001b[0;34m,\u001b[0m \u001b[0mCS\u001b[0m\u001b[0;34m,\u001b[0m \u001b[0;34m*\u001b[0m\u001b[0margs\u001b[0m\u001b[0;34m,\u001b[0m \u001b[0;34m**\u001b[0m\u001b[0mkwargs\u001b[0m\u001b[0;34m)\u001b[0m\u001b[0;34m:\u001b[0m\u001b[0;34m\u001b[0m\u001b[0m\n\u001b[0;32m-> 6296\u001b[0;31m         \u001b[0;32mreturn\u001b[0m \u001b[0mCS\u001b[0m\u001b[0;34m.\u001b[0m\u001b[0mclabel\u001b[0m\u001b[0;34m(\u001b[0m\u001b[0;34m*\u001b[0m\u001b[0margs\u001b[0m\u001b[0;34m,\u001b[0m \u001b[0;34m**\u001b[0m\u001b[0mkwargs\u001b[0m\u001b[0;34m)\u001b[0m\u001b[0;34m\u001b[0m\u001b[0m\n\u001b[0m\u001b[1;32m   6297\u001b[0m     \u001b[0mclabel\u001b[0m\u001b[0;34m.\u001b[0m\u001b[0m__doc__\u001b[0m \u001b[0;34m=\u001b[0m \u001b[0mmcontour\u001b[0m\u001b[0;34m.\u001b[0m\u001b[0mContourSet\u001b[0m\u001b[0;34m.\u001b[0m\u001b[0mclabel\u001b[0m\u001b[0;34m.\u001b[0m\u001b[0m__doc__\u001b[0m\u001b[0;34m\u001b[0m\u001b[0m\n\u001b[1;32m   6298\u001b[0m \u001b[0;34m\u001b[0m\u001b[0m\n",
      "\u001b[0;32m/opt/conda/lib/python3.6/site-packages/matplotlib/contour.py\u001b[0m in \u001b[0;36mclabel\u001b[0;34m(self, *args, **kwargs)\u001b[0m\n\u001b[1;32m    175\u001b[0m             \u001b[0;32mif\u001b[0m \u001b[0mlen\u001b[0m\u001b[0;34m(\u001b[0m\u001b[0mlevels\u001b[0m\u001b[0;34m)\u001b[0m \u001b[0;34m<\u001b[0m \u001b[0mlen\u001b[0m\u001b[0;34m(\u001b[0m\u001b[0mlevlabs\u001b[0m\u001b[0;34m)\u001b[0m\u001b[0;34m:\u001b[0m\u001b[0;34m\u001b[0m\u001b[0m\n\u001b[1;32m    176\u001b[0m                 raise ValueError(\"Specified levels {} don't match available \"\n\u001b[0;32m--> 177\u001b[0;31m                                  \"levels {}\".format(levlabs, self.levels))\n\u001b[0m\u001b[1;32m    178\u001b[0m         \u001b[0;32melse\u001b[0m\u001b[0;34m:\u001b[0m\u001b[0;34m\u001b[0m\u001b[0m\n\u001b[1;32m    179\u001b[0m             \u001b[0;32mraise\u001b[0m \u001b[0mTypeError\u001b[0m\u001b[0;34m(\u001b[0m\u001b[0;34m\"Illegal arguments to clabel, see help(clabel)\"\u001b[0m\u001b[0;34m)\u001b[0m\u001b[0;34m\u001b[0m\u001b[0m\n",
      "\u001b[0;31mValueError\u001b[0m: Specified levels [1, 4, 9] don't match available levels [-2821.100176100077]"
     ]
    },
    {
     "data": {
      "image/png": "[encoded data removed]",
      "text/plain": [
       "<Figure size 504x576 with 1 Axes>"
      ]
     },
     "metadata": {},
     "output_type": "display_data"
    }
   ],
   "source": [
    "X, Y = numpy.meshgrid(a_axis, b_axis, indexing='xy')\n",
    "contour_data = plot_data - chisq_min\n",
    "\n",
    "levels = [1, 4, 9] # Contour levels to plot - delta chi-squared of 1, 4 & 9 correspond to 1, 2 & 3 standard deviations\n",
    "plt.figure(figsize=(7,8))\n",
    "contour_plot = plt.contour(X, Y, contour_data, levels=levels, colors='b', origin = 'lower')\n",
    "plt.clabel(contour_plot, levels, fontsize=12, inline=1, fmt=r'$\\chi^2 = \\chi^2_{min}+%1.0f$') \n",
    "\n",
    "plt.xlabel('a (units?)') # Axis labels\n",
    "plt.ylabel('b (units?)')\n",
    "\n",
    "import matplotlib.ticker as ticker # This allows you to modify the tick markers to assess the errors from the chi-squared contour plots.\n",
    "\n",
    "xtick_spacing = 0.25 \n",
    "ytick_spacing = 0.02\n",
    "\n",
    "ax = plt.gca()\n",
    "ax.xaxis.set_major_locator(ticker.MultipleLocator(xtick_spacing))\n",
    "ax.yaxis.set_major_locator(ticker.MultipleLocator(ytick_spacing))\n",
    "\n",
    "\n",
    "plt.plot(a_solution, b_solution, 'ro') # Add in best fit point and dashed lines to axes\n",
    "plt.plot((a_solution, a_solution), (b_solution-b_range, b_solution), linestyle='--', color='r')\n",
    "plt.plot((a_solution-a_range, a_solution), (b_solution, b_solution), linestyle='--', color='r')\n",
    "plt.show()"
   ]
  },
  {
   "cell_type": "code",
   "execution_count": 15,
   "metadata": {},
   "outputs": [
    {
     "ename": "IndexError",
     "evalue": "list index out of range",
     "output_type": "error",
     "traceback": [
      "\u001b[0;31m---------------------------------------------------------------------------\u001b[0m",
      "\u001b[0;31mIndexError\u001b[0m                                Traceback (most recent call last)",
      "\u001b[0;32m<ipython-input-15-33e07ae5a73e>\u001b[0m in \u001b[0;36m<module>\u001b[0;34m()\u001b[0m\n\u001b[1;32m      1\u001b[0m \u001b[0mcontours\u001b[0m \u001b[0;34m=\u001b[0m \u001b[0mcontour_plot\u001b[0m\u001b[0;34m.\u001b[0m\u001b[0mcollections\u001b[0m\u001b[0;34m[\u001b[0m\u001b[0;36m0\u001b[0m\u001b[0;34m]\u001b[0m\u001b[0;34m.\u001b[0m\u001b[0mget_paths\u001b[0m\u001b[0;34m(\u001b[0m\u001b[0;34m)\u001b[0m    \u001b[0;31m# Get hold of the contours from the plot\u001b[0m\u001b[0;34m\u001b[0m\u001b[0m\n\u001b[0;32m----> 2\u001b[0;31m \u001b[0monesigma_contour\u001b[0m \u001b[0;34m=\u001b[0m \u001b[0mcontours\u001b[0m\u001b[0;34m[\u001b[0m\u001b[0;36m0\u001b[0m\u001b[0;34m]\u001b[0m\u001b[0;34m.\u001b[0m\u001b[0mvertices\u001b[0m       \u001b[0;31m# Grab the set of points constituting the one confidence interval contour\u001b[0m\u001b[0;34m\u001b[0m\u001b[0m\n\u001b[0m\u001b[1;32m      3\u001b[0m \u001b[0;34m\u001b[0m\u001b[0m\n\u001b[1;32m      4\u001b[0m \u001b[0mmaxs\u001b[0m \u001b[0;34m=\u001b[0m \u001b[0mnumpy\u001b[0m\u001b[0;34m.\u001b[0m\u001b[0mamax\u001b[0m\u001b[0;34m(\u001b[0m\u001b[0monesigma_contour\u001b[0m\u001b[0;34m,\u001b[0m \u001b[0maxis\u001b[0m\u001b[0;34m=\u001b[0m\u001b[0;36m0\u001b[0m\u001b[0;34m)\u001b[0m   \u001b[0;31m# Get the extrema along the two axes - max and min values\u001b[0m\u001b[0;34m\u001b[0m\u001b[0m\n\u001b[1;32m      5\u001b[0m \u001b[0mmins\u001b[0m \u001b[0;34m=\u001b[0m \u001b[0mnumpy\u001b[0m\u001b[0;34m.\u001b[0m\u001b[0mamin\u001b[0m\u001b[0;34m(\u001b[0m\u001b[0monesigma_contour\u001b[0m\u001b[0;34m,\u001b[0m \u001b[0maxis\u001b[0m\u001b[0;34m=\u001b[0m\u001b[0;36m0\u001b[0m\u001b[0;34m)\u001b[0m   \u001b[0;31m# These should be symmetric about the solution...\u001b[0m\u001b[0;34m\u001b[0m\u001b[0m\n",
      "\u001b[0;31mIndexError\u001b[0m: list index out of range"
     ]
    }
   ],
   "source": [
    "contours = contour_plot.collections[0].get_paths()    # Get hold of the contours from the plot\n",
    "onesigma_contour = contours[0].vertices       # Grab the set of points constituting the one confidence interval contour\n",
    "                                              \n",
    "maxs = numpy.amax(onesigma_contour, axis=0)   # Get the extrema along the two axes - max and min values\n",
    "mins = numpy.amin(onesigma_contour, axis=0)   # These should be symmetric about the solution...\n",
    "errs_graphical = (maxs-mins)/2                          # Calculate one standard error in the parameters\n",
    "\n",
    "a_error = errs_graphical[0]\n",
    "b_error = errs_graphical[1]\n",
    "\n",
    "print('Parameter a = {} +/- {}'.format(a_solution, a_error))           \n",
    "print('Parameter b = {} +/- {}'.format(b_solution, b_error)) "
   ]
  },
  {
   "cell_type": "code",
   "execution_count": 14,
   "metadata": {},
   "outputs": [
    {
     "name": "stdout",
     "output_type": "stream",
     "text": [
      "Parameter a = 732.8943115973375 +/- 1.342234956210549\n",
      "Parameter b = -11.085098741999522 +/- 0.024475376463468732\n"
     ]
    }
   ],
   "source": [
    "errs_Hessian = numpy.sqrt(numpy.diag(2*fit_linear.hess_inv))\n",
    "\n",
    "a_err = errs_Hessian[0]\n",
    "b_err = errs_Hessian[1]\n",
    "\n",
    "print('Parameter a = {} +/- {}'.format(a_solution, a_err))           \n",
    "print('Parameter b = {} +/- {}'.format(b_solution, b_err)) "
   ]
  },
  {
   "cell_type": "code",
   "execution_count": null,
   "metadata": {},
   "outputs": [],
   "source": []
  },
  {
   "cell_type": "code",
   "execution_count": null,
   "metadata": {},
   "outputs": [],
   "source": []
  }
 ],
 "metadata": {
  "kernelspec": {
   "display_name": "Python 3",
   "language": "python",
   "name": "python3"
  },
  "language_info": {
   "codemirror_mode": {
    "name": "ipython",
    "version": 3
   },
   "file_extension": ".py",
   "mimetype": "text/x-python",
   "name": "python",
   "nbconvert_exporter": "python",
   "pygments_lexer": "ipython3",
   "version": "3.6.3"
  }
 },
 "nbformat": 4,
 "nbformat_minor": 2
}
